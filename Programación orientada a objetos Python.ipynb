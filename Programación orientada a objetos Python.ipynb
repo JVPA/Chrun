{
 "cells": [
  {
   "cell_type": "code",
   "execution_count": 1,
   "metadata": {},
   "outputs": [],
   "source": [
    "class Vehicle:\n",
    "    \n",
    "    def __init__(self, kms, coste):     # Constructor\n",
    "        self.kms = kms\n",
    "        self.coste = coste\n",
    "        \n",
    "    def show_details(self):\n",
    "        print('I am a vehicle')\n",
    "        print('Kilometros', self.kms)\n",
    "        print('Precio', self.coste)\n",
    "        \n",
    "class Motorcycle(Vehicle):              # Clase hija de la case Vehículo\n",
    "                                        # Hereda todas sus propiedades\n",
    "    def show_Motorcycle(self):\n",
    "        print('I am a motorcycle.')"
   ]
  },
  {
   "cell_type": "code",
   "execution_count": 2,
   "metadata": {},
   "outputs": [],
   "source": [
    "class Cars(Vehicle):\n",
    "    \n",
    "    def __init__(self, kms, coste, llantas, cv):\n",
    "        super().__init__(kms, coste)\n",
    "        self.llantas = llantas\n",
    "        self.cv = cv\n",
    "        \n",
    "    def show_car(self):\n",
    "        print('I am a car')\n",
    "        print('Llantas:', self.llantas)\n",
    "        print('Potencia', self.cv, 'caballos')"
   ]
  },
  {
   "cell_type": "code",
   "execution_count": 3,
   "metadata": {},
   "outputs": [],
   "source": [
    "c1 = Vehicle(kms = 100000, coste = 3000)\n",
    "c2 = Motorcycle(kms = 300000, coste = 100)\n",
    "c3 = Cars(20000, 10000, True, 205)"
   ]
  },
  {
   "cell_type": "code",
   "execution_count": 4,
   "metadata": {},
   "outputs": [
    {
     "name": "stdout",
     "output_type": "stream",
     "text": [
      "I am a vehicle\n",
      "Kilometros 100000\n",
      "Precio 3000\n"
     ]
    }
   ],
   "source": [
    "c1.show_details()"
   ]
  },
  {
   "cell_type": "code",
   "execution_count": 5,
   "metadata": {},
   "outputs": [
    {
     "name": "stdout",
     "output_type": "stream",
     "text": [
      "I am a vehicle\n",
      "Kilometros 300000\n",
      "Precio 100\n"
     ]
    }
   ],
   "source": [
    "c2.show_details()"
   ]
  },
  {
   "cell_type": "code",
   "execution_count": 6,
   "metadata": {},
   "outputs": [
    {
     "name": "stdout",
     "output_type": "stream",
     "text": [
      "I am a motorcycle.\n"
     ]
    }
   ],
   "source": [
    "c2.show_Motorcycle()"
   ]
  },
  {
   "cell_type": "code",
   "execution_count": 7,
   "metadata": {},
   "outputs": [
    {
     "name": "stdout",
     "output_type": "stream",
     "text": [
      "I am a car\n",
      "Llantas: True\n",
      "Potencia 205 caballos\n"
     ]
    }
   ],
   "source": [
    "c3.show_car()"
   ]
  },
  {
   "cell_type": "code",
   "execution_count": 8,
   "metadata": {},
   "outputs": [
    {
     "name": "stdout",
     "output_type": "stream",
     "text": [
      "I am a vehicle\n",
      "Kilometros 20000\n",
      "Precio 10000\n"
     ]
    }
   ],
   "source": [
    "c3.show_details()"
   ]
  }
 ],
 "metadata": {
  "kernelspec": {
   "display_name": "Python 3",
   "language": "python",
   "name": "python3"
  },
  "language_info": {
   "codemirror_mode": {
    "name": "ipython",
    "version": 3
   },
   "file_extension": ".py",
   "mimetype": "text/x-python",
   "name": "python",
   "nbconvert_exporter": "python",
   "pygments_lexer": "ipython3",
   "version": "3.7.2"
  },
  "varInspector": {
   "cols": {
    "lenName": 16,
    "lenType": 16,
    "lenVar": 40
   },
   "kernels_config": {
    "python": {
     "delete_cmd_postfix": "",
     "delete_cmd_prefix": "del ",
     "library": "var_list.py",
     "varRefreshCmd": "print(var_dic_list())"
    },
    "r": {
     "delete_cmd_postfix": ") ",
     "delete_cmd_prefix": "rm(",
     "library": "var_list.r",
     "varRefreshCmd": "cat(var_dic_list()) "
    }
   },
   "types_to_exclude": [
    "module",
    "function",
    "builtin_function_or_method",
    "instance",
    "_Feature"
   ],
   "window_display": false
  }
 },
 "nbformat": 4,
 "nbformat_minor": 2
}
