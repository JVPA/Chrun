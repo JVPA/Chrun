
   "source": [
    "print('Precisión de regresión logística en el conjunto de datos: {:.2f}%'.format(lr.score(X_train, Y_train) * 100))\n",
    "print('Precisión sobre la base test: {:.2f}%'.format(np.mean(Y_test == Y_Pred) * 100))\n",
    "print()\n",
    "print('Peso en datos reales: {:.2f}%'.format(100 - df.Churn.sum() / df.Churn.count()* 100))\n",
    "print()\n",
    "\n",
    "print('Matriz de confusión en %:')\n",
    "print(matriz(Y_test, Y_Pred))\n"
   ]
  }
 ],
 "metadata": {
  "kernelspec": {
   "display_name": "Python 3",
   "language": "python",
   "name": "python3"
  },
  "language_info": {
   "codemirror_mode": {
    "name": "ipython",
    "version": 3
   },
   "file_extension": ".py",
   "mimetype": "text/x-python",
   "name": "python",
   "nbconvert_exporter": "python",
   "pygments_lexer": "ipython3",
   "version": "3.7.2"
  }
 },
 "nbformat": 4,
 "nbformat_minor": 2
}
