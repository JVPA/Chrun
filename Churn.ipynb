{
 "cells": [
  {
   "cell_type": "markdown",
   "metadata": {},
   "source": [
    "Importamos librerias necesarias."
   ]
  },
  {
   "cell_type": "code",
   "execution_count": 1,
   "metadata": {},
   "outputs": [],
   "source": [
    "from sklearn import tree\n",
    "from sklearn.model_selection import train_test_split\n",
    "from sklearn.linear_model import LogisticRegression\n",
    "from sklearn.metrics import confusion_matrix\n",
    "\n",
    "import matplotlib.pyplot as plt\n",
    "import pandas as pd\n",
    "import numpy as np"
   ]
  },
  {
   "cell_type": "markdown",
   "metadata": {},
   "source": [
    "Importamos tabla y eliminamos valores faltantes de en _TotalCharges_.\n",
    "    * Creamos Churn_b con valores binarios.\n",
    "    * Mezclamos el DataFrame para hacer los análisis."
   ]
  },
  {
   "cell_type": "code",
   "execution_count": 2,
   "metadata": {},
   "outputs": [
    {
     "data": {
      "text/html": [
       "<div>\n",
       "<style scoped>\n",
       "    .dataframe tbody tr th:only-of-type {\n",
       "        vertical-align: middle;\n",
       "    }\n",
       "\n",
       "    .dataframe tbody tr th {\n",
       "        vertical-align: top;\n",
       "    }\n",
       "\n",
       "    .dataframe thead th {\n",
       "        text-align: right;\n",
       "    }\n",
       "</style>\n",
       "<table border=\"1\" class=\"dataframe\">\n",
       "  <thead>\n",
       "    <tr style=\"text-align: right;\">\n",
       "      <th></th>\n",
       "      <th>customerID</th>\n",
       "      <th>gender</th>\n",
       "      <th>SeniorCitizen</th>\n",
       "      <th>Partner</th>\n",
       "      <th>Dependents</th>\n",
       "      <th>tenure</th>\n",
       "      <th>PhoneService</th>\n",
       "      <th>MultipleLines</th>\n",
       "      <th>InternetService</th>\n",
       "      <th>OnlineSecurity</th>\n",
       "      <th>...</th>\n",
       "      <th>TechSupport</th>\n",
       "      <th>StreamingTV</th>\n",
       "      <th>StreamingMovies</th>\n",
       "      <th>Contract</th>\n",
       "      <th>PaperlessBilling</th>\n",
       "      <th>PaymentMethod</th>\n",
       "      <th>MonthlyCharges</th>\n",
       "      <th>TotalCharges</th>\n",
       "      <th>Churn</th>\n",
       "      <th>Churn_b</th>\n",
       "    </tr>\n",
       "  </thead>\n",
       "  <tbody>\n",
       "    <tr>\n",
       "      <th>3281</th>\n",
       "      <td>6322-PJJDJ</td>\n",
       "      <td>Male</td>\n",
       "      <td>0</td>\n",
       "      <td>Yes</td>\n",
       "      <td>No</td>\n",
       "      <td>49</td>\n",
       "      <td>Yes</td>\n",
       "      <td>No</td>\n",
       "      <td>Fiber optic</td>\n",
       "      <td>No</td>\n",
       "      <td>...</td>\n",
       "      <td>No</td>\n",
       "      <td>Yes</td>\n",
       "      <td>Yes</td>\n",
       "      <td>Two year</td>\n",
       "      <td>Yes</td>\n",
       "      <td>Electronic check</td>\n",
       "      <td>94.80</td>\n",
       "      <td>4690.65</td>\n",
       "      <td>No</td>\n",
       "      <td>0</td>\n",
       "    </tr>\n",
       "    <tr>\n",
       "      <th>1625</th>\n",
       "      <td>1262-OPMFY</td>\n",
       "      <td>Female</td>\n",
       "      <td>0</td>\n",
       "      <td>Yes</td>\n",
       "      <td>No</td>\n",
       "      <td>9</td>\n",
       "      <td>Yes</td>\n",
       "      <td>No</td>\n",
       "      <td>Fiber optic</td>\n",
       "      <td>No</td>\n",
       "      <td>...</td>\n",
       "      <td>No</td>\n",
       "      <td>No</td>\n",
       "      <td>No</td>\n",
       "      <td>Month-to-month</td>\n",
       "      <td>Yes</td>\n",
       "      <td>Bank transfer (automatic)</td>\n",
       "      <td>75.75</td>\n",
       "      <td>655.9</td>\n",
       "      <td>Yes</td>\n",
       "      <td>1</td>\n",
       "    </tr>\n",
       "    <tr>\n",
       "      <th>4606</th>\n",
       "      <td>1734-ZMNTZ</td>\n",
       "      <td>Female</td>\n",
       "      <td>0</td>\n",
       "      <td>Yes</td>\n",
       "      <td>Yes</td>\n",
       "      <td>11</td>\n",
       "      <td>Yes</td>\n",
       "      <td>Yes</td>\n",
       "      <td>No</td>\n",
       "      <td>No internet service</td>\n",
       "      <td>...</td>\n",
       "      <td>No internet service</td>\n",
       "      <td>No internet service</td>\n",
       "      <td>No internet service</td>\n",
       "      <td>Two year</td>\n",
       "      <td>No</td>\n",
       "      <td>Mailed check</td>\n",
       "      <td>25.00</td>\n",
       "      <td>300.7</td>\n",
       "      <td>No</td>\n",
       "      <td>0</td>\n",
       "    </tr>\n",
       "    <tr>\n",
       "      <th>5443</th>\n",
       "      <td>7109-MFBYV</td>\n",
       "      <td>Male</td>\n",
       "      <td>0</td>\n",
       "      <td>No</td>\n",
       "      <td>No</td>\n",
       "      <td>26</td>\n",
       "      <td>Yes</td>\n",
       "      <td>No</td>\n",
       "      <td>DSL</td>\n",
       "      <td>No</td>\n",
       "      <td>...</td>\n",
       "      <td>No</td>\n",
       "      <td>No</td>\n",
       "      <td>No</td>\n",
       "      <td>Month-to-month</td>\n",
       "      <td>No</td>\n",
       "      <td>Electronic check</td>\n",
       "      <td>45.45</td>\n",
       "      <td>1233.15</td>\n",
       "      <td>No</td>\n",
       "      <td>0</td>\n",
       "    </tr>\n",
       "    <tr>\n",
       "      <th>2762</th>\n",
       "      <td>8929-KSWIH</td>\n",
       "      <td>Male</td>\n",
       "      <td>0</td>\n",
       "      <td>No</td>\n",
       "      <td>No</td>\n",
       "      <td>25</td>\n",
       "      <td>Yes</td>\n",
       "      <td>No</td>\n",
       "      <td>Fiber optic</td>\n",
       "      <td>No</td>\n",
       "      <td>...</td>\n",
       "      <td>Yes</td>\n",
       "      <td>Yes</td>\n",
       "      <td>Yes</td>\n",
       "      <td>Two year</td>\n",
       "      <td>No</td>\n",
       "      <td>Bank transfer (automatic)</td>\n",
       "      <td>99.30</td>\n",
       "      <td>2513.5</td>\n",
       "      <td>No</td>\n",
       "      <td>0</td>\n",
       "    </tr>\n",
       "  </tbody>\n",
       "</table>\n",
       "<p>5 rows × 22 columns</p>\n",
       "</div>"
      ],
      "text/plain": [
       "      customerID  gender  SeniorCitizen Partner Dependents  tenure  \\\n",
       "3281  6322-PJJDJ    Male              0     Yes         No      49   \n",
       "1625  1262-OPMFY  Female              0     Yes         No       9   \n",
       "4606  1734-ZMNTZ  Female              0     Yes        Yes      11   \n",
       "5443  7109-MFBYV    Male              0      No         No      26   \n",
       "2762  8929-KSWIH    Male              0      No         No      25   \n",
       "\n",
       "     PhoneService MultipleLines InternetService       OnlineSecurity   ...    \\\n",
       "3281          Yes            No     Fiber optic                   No   ...     \n",
       "1625          Yes            No     Fiber optic                   No   ...     \n",
       "4606          Yes           Yes              No  No internet service   ...     \n",
       "5443          Yes            No             DSL                   No   ...     \n",
       "2762          Yes            No     Fiber optic                   No   ...     \n",
       "\n",
       "              TechSupport          StreamingTV      StreamingMovies  \\\n",
       "3281                   No                  Yes                  Yes   \n",
       "1625                   No                   No                   No   \n",
       "4606  No internet service  No internet service  No internet service   \n",
       "5443                   No                   No                   No   \n",
       "2762                  Yes                  Yes                  Yes   \n",
       "\n",
       "            Contract PaperlessBilling              PaymentMethod  \\\n",
       "3281        Two year              Yes           Electronic check   \n",
       "1625  Month-to-month              Yes  Bank transfer (automatic)   \n",
       "4606        Two year               No               Mailed check   \n",
       "5443  Month-to-month               No           Electronic check   \n",
       "2762        Two year               No  Bank transfer (automatic)   \n",
       "\n",
       "     MonthlyCharges TotalCharges  Churn Churn_b  \n",
       "3281          94.80      4690.65     No       0  \n",
       "1625          75.75        655.9    Yes       1  \n",
       "4606          25.00        300.7     No       0  \n",
       "5443          45.45      1233.15     No       0  \n",
       "2762          99.30       2513.5     No       0  \n",
       "\n",
       "[5 rows x 22 columns]"
      ]
     },
     "execution_count": 2,
     "metadata": {},
     "output_type": "execute_result"
    }
   ],
   "source": [
    "df = pd.read_csv('data.csv')\n",
    "\n",
    "df['TotalCharges'].replace(' ', np.nan, inplace=True)\n",
    "df = df.dropna(subset = ['TotalCharges'])\n",
    "df = df.sample(frac = 1\n",
    "               , random_state = 12345)\n",
    "\n",
    "df['Churn_b'] =  df.Churn.replace({\"No\": 0, \"Yes\": 1})\n",
    "df.head()"
   ]
  },
  {
   "cell_type": "code",
   "execution_count": 3,
   "metadata": {},
   "outputs": [
    {
     "data": {
      "text/html": [
       "<div>\n",
       "<style scoped>\n",
       "    .dataframe tbody tr th:only-of-type {\n",
       "        vertical-align: middle;\n",
       "    }\n",
       "\n",
       "    .dataframe tbody tr th {\n",
       "        vertical-align: top;\n",
       "    }\n",
       "\n",
       "    .dataframe thead th {\n",
       "        text-align: right;\n",
       "    }\n",
       "</style>\n",
       "<table border=\"1\" class=\"dataframe\">\n",
       "  <thead>\n",
       "    <tr style=\"text-align: right;\">\n",
       "      <th></th>\n",
       "      <th>Churn</th>\n",
       "      <th>customerID</th>\n",
       "      <th>Rat</th>\n",
       "    </tr>\n",
       "  </thead>\n",
       "  <tbody>\n",
       "    <tr>\n",
       "      <th>0</th>\n",
       "      <td>No</td>\n",
       "      <td>5163</td>\n",
       "      <td>0.734215</td>\n",
       "    </tr>\n",
       "    <tr>\n",
       "      <th>1</th>\n",
       "      <td>Yes</td>\n",
       "      <td>1869</td>\n",
       "      <td>0.265785</td>\n",
       "    </tr>\n",
       "  </tbody>\n",
       "</table>\n",
       "</div>"
      ],
      "text/plain": [
       "  Churn  customerID       Rat\n",
       "0    No        5163  0.734215\n",
       "1   Yes        1869  0.265785"
      ]
     },
     "execution_count": 3,
     "metadata": {},
     "output_type": "execute_result"
    }
   ],
   "source": [
    "df_Churn = df.groupby(by = ['Churn'])['customerID'].count().reset_index()\n",
    "df_Churn['Rat'] = df_Churn.customerID / df_Churn.customerID.sum()\n",
    "df_Churn"
   ]
  },
  {
   "cell_type": "markdown",
   "metadata": {},
   "source": [
    "Función de contingencia para el cálculo de proporciones de las distintas variables"
   ]
  },
  {
   "cell_type": "code",
   "execution_count": 4,
   "metadata": {},
   "outputs": [],
   "source": [
    "def contingencia(df, discreta):\n",
    "    df_result = df.groupby([discreta])['Churn_b']\n",
    "    a = df_result.sum() / df_result.count()\n",
    "    \n",
    "    return a.reset_index()"
   ]
  },
  {
   "cell_type": "markdown",
   "metadata": {},
   "source": [
    "Creamos lista de columnas y eliminamos las que contienen datos numéricos."
   ]
  },
  {
   "cell_type": "code",
   "execution_count": 5,
   "metadata": {},
   "outputs": [
    {
     "name": "stdout",
     "output_type": "stream",
     "text": [
      "['gender', 'SeniorCitizen', 'Partner', 'Dependents', 'PhoneService', 'MultipleLines', 'InternetService', 'OnlineSecurity', 'OnlineBackup', 'DeviceProtection', 'TechSupport', 'StreamingTV', 'StreamingMovies', 'Contract', 'PaperlessBilling', 'PaymentMethod']\n"
     ]
    }
   ],
   "source": [
    "columnsList = df.columns.tolist()\n",
    "\n",
    "excluir = ['customerID','TotalCharges','tenure','MonthlyCharges','Churn','Churn_b']\n",
    "\n",
    "for i in excluir:\n",
    "    if i in columnsList:\n",
    "        columnsList.remove(i)\n",
    "        \n",
    "print(columnsList)"
   ]
  },
  {
   "cell_type": "code",
   "execution_count": 6,
   "metadata": {},
   "outputs": [
    {
     "name": "stdout",
     "output_type": "stream",
     "text": [
      "------------------------------------\n",
      "    gender   Churn_b\n",
      "0  Female  0.269595\n",
      "1    Male  0.262046\n",
      "------------------------------------\n",
      "    SeniorCitizen   Churn_b\n",
      "0              0  0.236503\n",
      "1              1  0.416813\n",
      "------------------------------------\n",
      "   Partner   Churn_b\n",
      "0      No  0.329761\n",
      "1     Yes  0.197171\n",
      "------------------------------------\n",
      "   Dependents   Churn_b\n",
      "0         No  0.312791\n",
      "1        Yes  0.155312\n",
      "------------------------------------\n",
      "   PhoneService   Churn_b\n",
      "0           No  0.250000\n",
      "1          Yes  0.267475\n",
      "------------------------------------\n",
      "       MultipleLines   Churn_b\n",
      "0                No  0.250812\n",
      "1  No phone service  0.250000\n",
      "2               Yes  0.286485\n",
      "------------------------------------\n",
      "   InternetService   Churn_b\n",
      "0             DSL  0.189983\n",
      "1     Fiber optic  0.418928\n",
      "2              No  0.074342\n",
      "------------------------------------\n",
      "         OnlineSecurity   Churn_b\n",
      "0                   No  0.417787\n",
      "1  No internet service  0.074342\n",
      "2                  Yes  0.146402\n",
      "------------------------------------\n",
      "           OnlineBackup   Churn_b\n",
      "0                   No  0.399417\n",
      "1  No internet service  0.074342\n",
      "2                  Yes  0.215670\n",
      "------------------------------------\n",
      "       DeviceProtection   Churn_b\n",
      "0                   No  0.391403\n",
      "1  No internet service  0.074342\n",
      "2                  Yes  0.225393\n",
      "------------------------------------\n",
      "            TechSupport   Churn_b\n",
      "0                   No  0.416475\n",
      "1  No internet service  0.074342\n",
      "2                  Yes  0.151961\n",
      "------------------------------------\n",
      "            StreamingTV   Churn_b\n",
      "0                   No  0.335351\n",
      "1  No internet service  0.074342\n",
      "2                  Yes  0.301147\n",
      "------------------------------------\n",
      "        StreamingMovies   Churn_b\n",
      "0                   No  0.337289\n",
      "1  No internet service  0.074342\n",
      "2                  Yes  0.299524\n",
      "------------------------------------\n",
      "          Contract   Churn_b\n",
      "0  Month-to-month  0.427097\n",
      "1        One year  0.112772\n",
      "2        Two year  0.028487\n",
      "------------------------------------\n",
      "   PaperlessBilling   Churn_b\n",
      "0               No  0.163757\n",
      "1              Yes  0.335893\n",
      "------------------------------------\n",
      "                PaymentMethod   Churn_b\n",
      "0  Bank transfer (automatic)  0.167315\n",
      "1    Credit card (automatic)  0.152531\n",
      "2           Electronic check  0.452854\n",
      "3               Mailed check  0.192020\n"
     ]
    }
   ],
   "source": [
    "salto = '''------------------------------------\n",
    "'''\n",
    "\n",
    "for i in columnsList:\n",
    "    print(salto, contingencia(df, i))"
   ]
  },
  {
   "cell_type": "code",
   "execution_count": 7,
   "metadata": {},
   "outputs": [
    {
     "data": {
      "image/png": "[encoded data removed]",
      "text/plain": [
       "<Figure size 432x288 with 1 Axes>"
      ]
     },
     "metadata": {
      "needs_background": "light"
     },
     "output_type": "display_data"
    },
    {
     "data": {
      "image/png": "[encoded data removed]",
      "text/plain": [
       "<Figure size 432x288 with 1 Axes>"
      ]
     },
     "metadata": {
      "needs_background": "light"
     },
     "output_type": "display_data"
    },
    {
     "data": {
      "image/png": "[encoded data removed]",
      "text/plain": [
       "<Figure size 432x288 with 1 Axes>"
      ]
     },
     "metadata": {
      "needs_background": "light"
     },
     "output_type": "display_data"
    }
   ],
   "source": [
    "Var_Continuas = ['TotalCharges','tenure','MonthlyCharges']\n",
    "\n",
    "for i in Var_Continuas:\n",
    "    df[[i]].apply(pd.to_numeric).hist(bins = 50\n",
    "                                      , grid = False\n",
    "                                      , color = '#86bf91'\n",
    "                                      , zorder = 2\n",
    "                                      , rwidth = 0.8)\n",
    "    plt.show"
   ]
  },
  {
   "cell_type": "code",
   "execution_count": 8,
   "metadata": {},
   "outputs": [],
   "source": [
    "Peso_train = 0.6\n",
    "\n",
    "df_train = df.head(int(df.customerID.count() * Peso_train))\n",
    "df_test = df.tail(df.customerID.count() - int(df.customerID.count() * Peso_train))"
   ]
  },
  {
   "cell_type": "code",
   "execution_count": 9,
   "metadata": {},
   "outputs": [
    {
     "data": {
      "image/png": "[encoded data removed]",
      "text/plain": [
       "<Figure size 432x288 with 1 Axes>"
      ]
     },
     "metadata": {
      "needs_background": "light"
     },
     "output_type": "display_data"
    },
    {
     "data": {
      "text/plain": [
       "0.7354823417871533"
      ]
     },
     "execution_count": 9,
     "metadata": {},
     "output_type": "execute_result"
    }
   ],
   "source": [
    "X = df[['tenure']]\n",
    "Y = df['Churn'] \n",
    "\n",
    "X_train, X_test, Y_train, Y_test = train_test_split(X\n",
    "                                                    , Y\n",
    "                                                    , test_size = 0.4\n",
    "                                                    , random_state = 12345)\n",
    "\n",
    "lr = tree.DecisionTreeClassifier(max_depth = 2, \n",
    "                                  min_samples_split = 3000,\n",
    "                                  criterion='entropy')\n",
    "\n",
    "lr = lr.fit(X, Y)\n",
    "tree.plot_tree(lr\n",
    "               , fontsize = 8\n",
    "               , max_depth = 7\n",
    "               , impurity = True\n",
    "               , rounded = True\n",
    "               , filled= True)\n",
    "\n",
    "plt.show()\n",
    "lr.score(X_train, Y_train)"
   ]
  },
  {
   "cell_type": "markdown",
   "metadata": {},
   "source": [
    "### puntos de corte 17.5 y 61.5"
   ]
  },
  {
   "cell_type": "code",
   "execution_count": 10,
   "metadata": {},
   "outputs": [
    {
     "data": {
      "text/plain": [
       "Tenure_b\n",
       "alto     1483\n",
       "bajo     2626\n",
       "medio    2923\n",
       "Name: Churn_b, dtype: int64"
      ]
     },
     "execution_count": 10,
     "metadata": {},
     "output_type": "execute_result"
    }
   ],
   "source": [
    "df['Tenure_b'] = df.tenure.map(lambda x: 'bajo' if x <= 17.5 else ('medio' if x <= 59.5 else 'alto'))\n",
    "columnsList.append('Tenure_b')\n",
    "\n",
    "df.groupby(['Tenure_b'])['Churn_b'].count()"
   ]
  },
  {
   "cell_type": "markdown",
   "metadata": {},
   "source": [
    "Creamos dummies con todas las variables discretas para poder lanzar la regresión logística.\n",
    "    * LogisticRegression con el parámetro solver = 'lbfgs' para que no se muestre mensaje por pantalla."
   ]
  },
  {
   "cell_type": "code",
   "execution_count": 11,
   "metadata": {},
   "outputs": [
    {
     "name": "stdout",
     "output_type": "stream",
     "text": [
      "Score: 0.7994785494192936 \n",
      " 0.79950231070032 \n",
      " [-2.21470219]\n",
      "\n",
      " Matriz de confusión \n",
      " [[1875  185]\n",
      " [ 379  374]]\n"
     ]
    }
   ],
   "source": [
    "Salto = '''\n",
    "'''\n",
    "X = pd.get_dummies (data = df[['gender'\n",
    "                               , 'SeniorCitizen'\n",
    "                               , 'Partner'\n",
    "                               , 'Dependents'\n",
    "                               , 'PhoneService'\n",
    "                               , 'MultipleLines'\n",
    "                               , 'InternetService'\n",
    "                               , 'OnlineSecurity'\n",
    "                               , 'OnlineBackup'\n",
    "                               , 'DeviceProtection'\n",
    "                               , 'TechSupport'\n",
    "                               , 'StreamingTV'\n",
    "                               , 'StreamingMovies'\n",
    "                               , 'Contract'\n",
    "                               , 'PaperlessBilling'\n",
    "                               , 'PaymentMethod'\n",
    "                               , 'Tenure_b']])\n",
    "Y = df['Churn']\n",
    "\n",
    "X_train, X_test, Y_train, Y_test = train_test_split(X\n",
    "                                                    , Y\n",
    "                                                    , test_size = 0.4\n",
    "                                                    , random_state = 12345)\n",
    "\n",
    "lr = LogisticRegression(solver = 'lbfgs')\n",
    "lr.fit(X_train, Y_train)\n",
    "\n",
    "Y_Pred = lr.predict(X_test)\n",
    "\n",
    "print('Score:', lr.score(X_train, Y_train)\n",
    "      , Salto, np.mean(Y_test == Y_Pred)\n",
    "      , Salto, lr.intercept_ )\n",
    "\n",
    "print(Salto, 'Matriz de confusión', Salto, confusion_matrix(Y_test, Y_Pred))"
   ]
  }
 ],
 "metadata": {
  "kernelspec": {
   "display_name": "Python 3",
   "language": "python",
   "name": "python3"
  },
  "language_info": {
   "codemirror_mode": {
    "name": "ipython",
    "version": 3
   },
   "file_extension": ".py",
   "mimetype": "text/x-python",
   "name": "python",
   "nbconvert_exporter": "python",
   "pygments_lexer": "ipython3",
   "version": "3.7.2"
  }
 },
 "nbformat": 4,
 "nbformat_minor": 2
}
